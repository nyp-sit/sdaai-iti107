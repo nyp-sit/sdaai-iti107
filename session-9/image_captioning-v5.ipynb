{
 "cells": [
  {
   "cell_type": "markdown",
   "metadata": {},
   "source": [
    "<a href=\"https://colab.research.google.com/github/nyp-sit/sdaai-pdc2-students/blob/master/iti107/session-9/image_captioning-v4.ipynb\" target=\"_parent\"><img src=\"https://colab.research.google.com/assets/colab-badge.svg\" alt=\"Open In Colab\" align=\"left\"/></a>"
   ]
  },
  {
   "cell_type": "markdown",
   "metadata": {},
   "source": [
    "In this programming exercise, we will develop a CNN/RNN Encoder-Decoder model to perform image captioning. \n",
    "\n",
    "At the end of this exercise, you will be able to:\n",
    "1. understand how CNN can be used in combination with RNN  \n",
    "2. implement image captioning with attention mechanism\n",
    "\n",
    "**Note:** You need to run this in tensorflow 2.x virtual environment.\n",
    "\n",
    "*Credit: This notebook is adapted from https://www.tensorflow.org/tutorials/text/image_captioning*"
   ]
  },
  {
   "cell_type": "markdown",
   "metadata": {
    "colab_type": "text",
    "id": "QASbY_HGo4Lq"
   },
   "source": [
    "Given an image like the example below, our goal is to generate a caption such as \"a surfer riding on a wave\".\n",
    "\n",
    "![Man Surfing](https://tensorflow.org/images/surf.jpg)\n",
    "\n",
    "*[Image Source](https://commons.wikimedia.org/wiki/Surfing#/media/File:Surfing_in_Hawaii.jpg); License: Public Domain*\n",
    "\n",
    "To accomplish this, you'll use an attention-based model, which enables us to see what parts of the image the model focuses on as it generates a caption.\n",
    "\n",
    "![Prediction](nb_images/imcap_prediction.png)\n",
    "\n",
    "The model architecture is similar to [Show, Attend and Tell: Neural Image Caption Generation with Visual Attention](https://arxiv.org/abs/1502.03044).\n",
    "\n",
    "In this notebook, we will use the Flickr8K dataset for training our image caption model. When you run the notebook, it downloads the Flickr8k captions and images dataset, preprocesses and caches a subset of images using Inception V3, trains an encoder-decoder model, and generates captions on new images using the trained model.\n",
    "\n",
    "In this example, you will train a model on a relatively small amount of data—the first 30,000 captions  for about 6,000 images (because there are 5 captions per image in the dataset)."
   ]
  },
  {
   "cell_type": "code",
   "execution_count": null,
   "metadata": {
    "colab": {},
    "colab_type": "code",
    "id": "U8l4RJ0XRPEm"
   },
   "outputs": [],
   "source": [
    "import tensorflow as tf\n",
    "import matplotlib.pyplot as plt\n",
    "import time\n",
    "import numpy as np\n",
    "import os\n",
    "import json\n",
    "from glob import glob\n",
    "from PIL import Image\n",
    "from tqdm import tqdm\n",
    "import pickle"
   ]
  },
  {
   "cell_type": "markdown",
   "metadata": {
    "colab_type": "text",
    "id": "b6qbGw8MRPE5"
   },
   "source": [
    "## Download and prepare the Flickr8K dataset\n",
    "\n",
    "You will use the Flickr8K dataset to train our model. The dataset contains 8000 images which are divided into train (6000 images), dev (1000 images) and test set (1000 images). Each image has 5 different caption annotations. The code below downloads and extracts the dataset automatically. The zip file for images is around 2GB. \n",
    "\n",
    "The subdirectory *Flickr8k_text* contains the captions file *Flickr8k.token.txt* and the subdirectory *Flickr8k_Dataset* contains the image jpeg files. \n",
    "\n",
    "The caption file *Flickr8k.token.txt* contains one caption per line: \n",
    "\n",
    "```\n",
    "1000268201_693b08cb0e.jpg#0     A child in a pink dress is climbing up a set of stairs in an entry way .\n",
    "1000268201_693b08cb0e.jpg#1     A girl going into a wooden building .\n",
    "....\n",
    "1000268201_693b08cb0e.jpg#4     A little girl in a pink dress going into a wooden cabin .\n",
    "1001773457_577c3a7d70.jpg#0     A black dog and a spotted dog are fighting\n",
    "1001773457_577c3a7d70.jpg#1     A black dog and a tri-colored dog playing with each other on the road .\n",
    "....\n",
    "1001773457_577c3a7d70.jpg#3     Two dogs of different breeds looking at each other on the road .\n",
    "```\n",
    "\n",
    "The file *Flickr_8k.trainImages.txt* contains the list of image filenames for training set and *Flickr_8k.devImages.txt* contains image filenames for validation set."
   ]
  },
  {
   "cell_type": "code",
   "execution_count": null,
   "metadata": {
    "colab": {},
    "colab_type": "code",
    "id": "krQuPYTtRPE7"
   },
   "outputs": [],
   "source": [
    "annotation_zip = tf.keras.utils.get_file('Flickr8k_text.zip',\n",
    "                                          cache_subdir=os.path.abspath('.'),\n",
    "                                          origin = 'https://sdaai-bucket.s3-ap-southeast-1.amazonaws.com/datasets/Flickr8k_text.zip',\n",
    "                                          extract = True)\n",
    "annotation_file = os.path.join('Flickr8k_text', 'Flickr8k.token.txt')\n"
   ]
  },
  {
   "cell_type": "code",
   "execution_count": null,
   "metadata": {},
   "outputs": [],
   "source": [
    "name_of_zip = 'Flickr8k_Dataset.zip'\n",
    "\n",
    "if not os.path.exists(os.path.abspath('.') + '/' + name_of_zip):\n",
    "    image_zip = tf.keras.utils.get_file(name_of_zip,\n",
    "                                      cache_subdir=os.path.abspath('.'),\n",
    "                                      origin = 'https://sdaai-bucket.s3-ap-southeast-1.amazonaws.com/datasets/Flickr8k_Dataset.zip',\n",
    "                                      extract = True)\n",
    "\n",
    "dataset_dir = os.path.join(os.path.abspath('.'),'Flickr8k_Dataset')"
   ]
  },
  {
   "cell_type": "code",
   "execution_count": null,
   "metadata": {},
   "outputs": [],
   "source": [
    "# read the list of captions\n",
    "with open(annotation_file, 'r') as file:\n",
    "    all_captions_list = file.read().split('\\n')\n",
    "\n",
    "# read the training set of images\n",
    "train_image_filename = os.path.join('Flickr8k_text','Flickr_8k.trainImages.txt')\n",
    "with open(train_image_filename, 'r') as file:\n",
    "    train_image_files_list = file.read().split('\\n')\n",
    "    \n",
    "# read the validation set of images\n",
    "val_image_filename = os.path.join('Flickr8k_text','Flickr_8k.devImages.txt')\n",
    "with open(val_image_filename, 'r') as file:\n",
    "    val_image_files_list = file.read().split('\\n')"
   ]
  },
  {
   "cell_type": "markdown",
   "metadata": {},
   "source": [
    "Create list of train/validation image_ids and captions"
   ]
  },
  {
   "cell_type": "code",
   "execution_count": null,
   "metadata": {},
   "outputs": [],
   "source": [
    "train_image_ids = []\n",
    "train_captions = []\n",
    "\n",
    "val_image_ids = []\n",
    "val_captions = []\n",
    "\n",
    "for line in all_captions_list:\n",
    "    tokens = line.split()\n",
    "    if len(tokens) < 2:\n",
    "        continue\n",
    "    image_id, image_desc = tokens[0], tokens[1:]\n",
    "    if image_id.split('#')[0] in train_image_files_list:\n",
    "        train_image_ids.append(image_id)\n",
    "        cap = ' '.join(tokens[1:])\n",
    "        cap = '<start> ' + cap + ' <end>'\n",
    "        train_captions.append(cap)\n",
    "    elif image_id.split('#')[0] in val_image_files_list:\n",
    "        val_image_ids.append(image_id)\n",
    "        cap = ' '.join(tokens[1:])\n",
    "        cap = '<start> ' + cap + ' <end>'\n",
    "        val_captions.append(cap)\n"
   ]
  },
  {
   "cell_type": "markdown",
   "metadata": {},
   "source": [
    "Let's display some sample image with it's caption"
   ]
  },
  {
   "cell_type": "code",
   "execution_count": null,
   "metadata": {},
   "outputs": [],
   "source": [
    "sample_train_image = train_image_ids[100].split('#')[0]\n",
    "sample_train_caption = train_captions[100]\n",
    "print(sample_train_caption)\n",
    "Image.open(os.path.join(dataset_dir, sample_train_image))"
   ]
  },
  {
   "cell_type": "markdown",
   "metadata": {
    "colab_type": "text",
    "id": "8cSW4u-ORPFQ"
   },
   "source": [
    "## Preprocess the images using InceptionV3\n",
    "\n",
    "We will use InceptionV3 (which is pretrained on Imagenet) to extract features from the images. The features will be from the last convolutional layer.\n",
    "\n",
    "First, you will convert the images into InceptionV3's expected format by:\n",
    "* Resizing the image to 299px by 299px\n",
    "* [Preprocess the images](https://cloud.google.com/tpu/docs/inception-v3-advanced#preprocessing_stage) using the [preprocess_input](https://www.tensorflow.org/api_docs/python/tf/keras/applications/inception_v3/preprocess_input) method to normalize the image so that it contains pixels in the range of -1 to 1, which matches the format of the images used to train InceptionV3."
   ]
  },
  {
   "cell_type": "code",
   "execution_count": null,
   "metadata": {
    "colab": {},
    "colab_type": "code",
    "id": "zXR0217aRPFR"
   },
   "outputs": [],
   "source": [
    "def load_image(image_path):\n",
    "    img = tf.io.read_file(image_path)\n",
    "    img = tf.image.decode_jpeg(img, channels=3)\n",
    "    img = tf.image.resize(img, (299, 299))\n",
    "    img = tf.keras.applications.inception_v3.preprocess_input(img)\n",
    "    return img, image_path"
   ]
  },
  {
   "cell_type": "markdown",
   "metadata": {
    "colab_type": "text",
    "id": "MDvIu4sXRPFV"
   },
   "source": [
    "## Initialize InceptionV3 and load the pretrained Imagenet weights\n",
    "\n",
    "We load the pretrained model without the classification layer (i.e. without the GAP and the Dense softmax layer). The shape of the output of last convolutional layer is ```8x8x2048```. To speed up the training, we will pre-extract the features for all training and validation images and cache them to the disk by doing the following:\n",
    "\n",
    "* Forward each batch of images through the network and extract the resulting features for the batch\n",
    "* Store each resultant features of the batch to disk (in pickle format, using `numpy.save()`) with the corrsponding image filename, appended with suffix .npy.\n",
    "\n",
    "\n"
   ]
  },
  {
   "cell_type": "code",
   "execution_count": null,
   "metadata": {
    "colab": {},
    "colab_type": "code",
    "id": "RD3vW4SsRPFW"
   },
   "outputs": [],
   "source": [
    "image_model = tf.keras.applications.InceptionV3(include_top=False,\n",
    "                                                weights='imagenet')\n",
    "new_input = image_model.input\n",
    "\n",
    "# get the output from the last convolutional layer [-1]\n",
    "hidden_layer = image_model.layers[-1].output\n",
    "\n",
    "image_features_extract_model = tf.keras.Model(new_input, hidden_layer)"
   ]
  },
  {
   "cell_type": "markdown",
   "metadata": {
    "colab_type": "text",
    "id": "rERqlR3WRPGO"
   },
   "source": [
    "## Caching the features extracted from InceptionV3\n",
    "\n",
    "We will now pass each image throught InceptionV3 and cache the output to disk. Caching the output in RAM would be faster but also memory intensive, requiring 8 \\* 8 \\* 2048 floats per image. "
   ]
  },
  {
   "cell_type": "code",
   "execution_count": null,
   "metadata": {
    "colab": {},
    "colab_type": "code",
    "id": "Dx_fvbVgRPGQ"
   },
   "outputs": [],
   "source": [
    "# The image_ids are in the form of <jpegfilename#n> where n = [0..4]. We extract the filename part using split method\n",
    "# We also find the unique set of filenames so that we don't pass the same images multiple times through the Inception network\n",
    "train_image_names = sorted(set([os.path.join(dataset_dir, id.split('#')[0]) for id in train_image_ids]))\n",
    "val_image_names = sorted(set([os.path.join(dataset_dir, id.split('#')[0]) for id in val_image_ids]))"
   ]
  },
  {
   "cell_type": "markdown",
   "metadata": {},
   "source": [
    "We callapse the 2D into a 1-D array before storing it, i.e. (batch_size, 8, 8, 2048) --> (batch, 64, 2048). We can think of the 64 as 64 locations in the images where the model should focus attention on at each timestep. "
   ]
  },
  {
   "cell_type": "code",
   "execution_count": null,
   "metadata": {},
   "outputs": [],
   "source": [
    "# Feel free to change batch_size according to your system configuration\n",
    "image_dataset = tf.data.Dataset.from_tensor_slices(train_image_names)\n",
    "image_dataset = image_dataset.map(\n",
    "  load_image, num_parallel_calls=tf.data.experimental.AUTOTUNE).batch(16)\n",
    "\n",
    "for img, path in tqdm(image_dataset):\n",
    "    batch_features = image_features_extract_model(img)\n",
    "    batch_features = tf.reshape(batch_features,\n",
    "                              (batch_features.shape[0], -1, batch_features.shape[3]))\n",
    "    \n",
    "    for bf, p in zip(batch_features, path):\n",
    "        path_of_feature = p.numpy().decode(\"utf-8\")\n",
    "        np.save(path_of_feature, bf.numpy())"
   ]
  },
  {
   "cell_type": "markdown",
   "metadata": {
    "colab_type": "text",
    "id": "nyqH3zFwRPFi"
   },
   "source": [
    "## Preprocess and tokenize the captions\n",
    "\n",
    "Now that we have cached extracted features from images in our train set, we will proceed to prepare our captions. \n",
    "\n",
    "* First, we will tokenize the training set captions (for example, by splitting on spaces). This gives us a  vocabulary of all of the unique words in the training caption data (for example, \"surfing\", \"football\", and so on).\n",
    "* Next, we will limit the vocabulary size to the top 5,000 words (to save memory). We will replace all other words with the token \"UNK\" (unknown).\n",
    "* We also need to pad all sequences to be the same length as the longest one."
   ]
  },
  {
   "cell_type": "code",
   "execution_count": null,
   "metadata": {
    "colab": {},
    "colab_type": "code",
    "id": "HZfK8RhQRPFj"
   },
   "outputs": [],
   "source": [
    "# Find the maximum length of any caption in our dataset\n",
    "def calc_max_length(tensor):\n",
    "    return max(len(t) for t in tensor)"
   ]
  },
  {
   "cell_type": "code",
   "execution_count": null,
   "metadata": {
    "colab": {},
    "colab_type": "code",
    "id": "oJGE34aiRPFo"
   },
   "outputs": [],
   "source": [
    "# Choose the top 5000 words from the vocabulary\n",
    "top_k = 5000\n",
    "tokenizer = tf.keras.preprocessing.text.Tokenizer(num_words=top_k,\n",
    "                                                  oov_token=\"<unk>\",\n",
    "                                                  filters='!\"#$%&()*+.,-/:;=?@[\\]^_`{|}~ ')\n",
    "tokenizer.fit_on_texts(train_captions)\n",
    "train_seqs = tokenizer.texts_to_sequences(train_captions)"
   ]
  },
  {
   "cell_type": "code",
   "execution_count": null,
   "metadata": {
    "colab": {},
    "colab_type": "code",
    "id": "8Q44tNQVRPFt"
   },
   "outputs": [],
   "source": [
    "tokenizer.word_index['<pad>'] = 0\n",
    "tokenizer.index_word[0] = '<pad>'"
   ]
  },
  {
   "cell_type": "code",
   "execution_count": null,
   "metadata": {
    "colab": {},
    "colab_type": "code",
    "id": "0fpJb5ojRPFv"
   },
   "outputs": [],
   "source": [
    "# Create the tokenized vectors\n",
    "train_seqs = tokenizer.texts_to_sequences(train_captions)\n",
    "val_seqs = tokenizer.texts_to_sequences(val_captions)"
   ]
  },
  {
   "cell_type": "code",
   "execution_count": null,
   "metadata": {
    "colab": {},
    "colab_type": "code",
    "id": "AidglIZVRPF4"
   },
   "outputs": [],
   "source": [
    "# Pad each vector to the max_length of the captions\n",
    "# If you do not provide a max_length value, pad_sequences calculates it automatically\n",
    "train_cap_vector = tf.keras.preprocessing.sequence.pad_sequences(train_seqs, padding='post')\n",
    "val_cap_vector = tf.keras.preprocessing.sequence.pad_sequences(val_seqs, padding='post')"
   ]
  },
  {
   "cell_type": "code",
   "execution_count": null,
   "metadata": {
    "colab": {},
    "colab_type": "code",
    "id": "gL0wkttkRPGA"
   },
   "outputs": [],
   "source": [
    "# Calculates the max_length, which is used to store the attention weights\n",
    "max_length = calc_max_length(train_seqs)"
   ]
  },
  {
   "cell_type": "markdown",
   "metadata": {
    "colab_type": "text",
    "id": "uEWM9xrYcg45"
   },
   "source": [
    "## Create a tf.data dataset for training\n",
    "\n"
   ]
  },
  {
   "cell_type": "markdown",
   "metadata": {
    "colab_type": "text",
    "id": "horagNvhhZiy"
   },
   "source": [
    " Our images and captions are ready! Next, let's create a tf.data dataset to use for training our model."
   ]
  },
  {
   "cell_type": "code",
   "execution_count": null,
   "metadata": {
    "colab": {},
    "colab_type": "code",
    "id": "Q3TnZ1ToRPGV"
   },
   "outputs": [],
   "source": [
    "# Feel free to change these parameters according to your system's configuration\n",
    "BATCH_SIZE = 64\n",
    "BUFFER_SIZE = 1000\n",
    "embedding_dim = 256\n",
    "units = 512\n",
    "vocab_size = top_k + 1\n",
    "num_steps = len(train_image_ids) // BATCH_SIZE\n",
    "# Shape of the vector extracted from InceptionV3 is (64, 2048)\n",
    "# These two variables represent that vector shape\n",
    "features_shape = 2048\n",
    "attention_features_shape = 64"
   ]
  },
  {
   "cell_type": "code",
   "execution_count": null,
   "metadata": {
    "colab": {},
    "colab_type": "code",
    "id": "SmZS2N0bXG3T"
   },
   "outputs": [],
   "source": [
    "# Load the numpy array (image features) files\n",
    "def map_func(img_id, cap):\n",
    "    img_name = os.path.join(dataset_dir, img_id.decode('utf-8').split('#')[0] + '.npy')\n",
    "    img_tensor = np.load(img_name)\n",
    "    return img_tensor, cap"
   ]
  },
  {
   "cell_type": "markdown",
   "metadata": {},
   "source": [
    "Create a training dataset of training image features (X) and vectorized captions text (y). The following code calls `map_func()` to load the saved image features extracted earlier. So the dataset contains image features as X instead of image_ids."
   ]
  },
  {
   "cell_type": "code",
   "execution_count": null,
   "metadata": {
    "colab": {},
    "colab_type": "code",
    "id": "FDF_Nm3tRPGZ"
   },
   "outputs": [],
   "source": [
    "dataset = tf.data.Dataset.from_tensor_slices((train_image_ids, train_cap_vector))\n",
    "\n",
    "# Use map to load the numpy files in parallel\n",
    "dataset = dataset.map(lambda item1, item2: tf.numpy_function(\n",
    "          map_func, [item1, item2], [tf.float32, tf.int32]),\n",
    "          num_parallel_calls=tf.data.experimental.AUTOTUNE)\n",
    "\n",
    "# Shuffle and batch\n",
    "dataset = dataset.shuffle(BUFFER_SIZE).batch(BATCH_SIZE)\n",
    "dataset = dataset.prefetch(buffer_size=tf.data.experimental.AUTOTUNE)"
   ]
  },
  {
   "cell_type": "markdown",
   "metadata": {
    "colab_type": "text",
    "id": "nrvoDphgRPGd"
   },
   "source": [
    "## Model\n",
    "\n",
    "The Attention class and the Decoder class below are identical to the ones in our earlier lab for Neural Machine Translation with Attention.\n",
    "\n",
    "The model architecture is inspired by the [Show, Attend and Tell](https://arxiv.org/pdf/1502.03044.pdf) paper.\n",
    "\n",
    "* in this example, we extract the features from the last convolutional layer of InceptionV3 giving us a vector of shape (8, 8, 2048).\n",
    "* we squash that to a shape of (64, 2048).\n",
    "* this vector is then passed through the CNN Encoder (which consists of a single Fully connected layer).\n",
    "* the RNN (here GRU) attends over the image (at 64 different locations) to predict the next word.\n",
    "\n",
    "Please refer to previous lab exercise **Seq2Seq with Attention!** for more detailed explanation of the attention mechanism."
   ]
  },
  {
   "cell_type": "code",
   "execution_count": null,
   "metadata": {
    "colab": {},
    "colab_type": "code",
    "id": "ja2LFTMSdeV3"
   },
   "outputs": [],
   "source": [
    "class BahdanauAttention(tf.keras.Model):\n",
    "    def __init__(self, units):\n",
    "        super(BahdanauAttention, self).__init__()\n",
    "       \n",
    "        self.FC_W1 = tf.keras.layers.Dense(units)\n",
    "        self.FC_W2 = tf.keras.layers.Dense(units)\n",
    "        self.FC_V = tf.keras.layers.Dense(1)\n",
    "\n",
    "    # here features is the same as h_s in the previous lab and hidden is the same as h_t in the previous lab\n",
    "    def call(self, hidden, features):\n",
    "        \"\"\"\n",
    "        Arguments:\n",
    "        hidden -- decoder hidden state of shape (batch_size, hidden_size), i.e. one time step only\n",
    "        features -- CNN encoder output of shape (batch_size, 64, embedding_dim), i.e. over all 64 locations\n",
    "        \"\"\"\n",
    "        \n",
    "        # score shape == (batch_size, 64, 1)\n",
    "        # you get 1 at the last axis because you are applying score to self.V\n",
    "        score = self.FC_V(tf.nn.tanh(self.FC_W1(features) + self.FC_W2(hidden)))\n",
    "        \n",
    "        # attention_weights shape == (batch_size, 64, 1)\n",
    "        attention_weights = tf.nn.softmax(score, axis=1)\n",
    "      \n",
    "        # context_vector shape after sum == (batch_size, hidden_size)\n",
    "        context_vector = attention_weights * features\n",
    "        context_vector = tf.reduce_sum(context_vector, axis=1)\n",
    "        \n",
    "        # context_vector shape after np.expand_dims == (batch_size, 1, hidden_size)\n",
    "        # We are including the time-step dimension so decoder can do the concat\n",
    "        context_vector = tf.expand_dims(context_vector, axis=1)\n",
    "        \n",
    "        return context_vector, attention_weights"
   ]
  },
  {
   "cell_type": "code",
   "execution_count": null,
   "metadata": {
    "colab": {},
    "colab_type": "code",
    "id": "AZ7R1RxHRPGf"
   },
   "outputs": [],
   "source": [
    "class CNN_Encoder(tf.keras.Model):\n",
    "    # Since you have already extracted the features and dumped it using pickle\n",
    "    # This encoder passes those features through a Fully connected layer\n",
    "    def __init__(self, embedding_dim):\n",
    "        super(CNN_Encoder, self).__init__()\n",
    "        # shape after fc == (batch_size, 64, embedding_dim)\n",
    "        self.fc = tf.keras.layers.Dense(embedding_dim)\n",
    "\n",
    "    def call(self, x):\n",
    "        x = self.fc(x)\n",
    "        x = tf.nn.relu(x)\n",
    "        return x"
   ]
  },
  {
   "cell_type": "code",
   "execution_count": null,
   "metadata": {
    "colab": {},
    "colab_type": "code",
    "id": "V9UbGQmERPGi"
   },
   "outputs": [],
   "source": [
    "class RNN_Decoder(tf.keras.Model):\n",
    "    def __init__(self, embedding_dim, units, vocab_size):\n",
    "        super(RNN_Decoder, self).__init__()\n",
    "        self.units = units\n",
    "\n",
    "        self.embedding = tf.keras.layers.Embedding(vocab_size, embedding_dim)\n",
    "        self.gru = tf.keras.layers.GRU(self.units,\n",
    "                                       return_sequences=True,\n",
    "                                       return_state=True,\n",
    "                                       recurrent_initializer='glorot_uniform')\n",
    "        self.wc = tf.keras.layers.Dense(self.units, activation='tanh')\n",
    "        self.uc = tf.keras.layers.Dense(vocab_size)\n",
    "\n",
    "        self.attention = BahdanauAttention(self.units)\n",
    "\n",
    "    def call(self, seq, features, state):\n",
    "        # sequence shape after passing through embedding layer== (batch_size, 1, embedding_dim)\n",
    "        embed = self.embedding(seq)\n",
    "         \n",
    "        # passing the embedding vector to the GRU\n",
    "        # output shape after GRU = (batch_size, 1, 512),  state shape after GRU = (batch_size, 512)\n",
    "        output, state = self.gru(embed, initial_state = state)\n",
    "        \n",
    "        # features shape is (batch_size, 64, 1024)\n",
    "        context_vector, attention_weights = self.attention(output, features)\n",
    "        \n",
    "        # We concatenate the context vector with the decoder's GRU output, and we get a concatenated vector of shape (batch_size, 64+512), ie. (64, 576)\n",
    "        concat_out = tf.concat([tf.squeeze(context_vector, 1), tf.squeeze(output, 1)], 1)\n",
    "         \n",
    "        # We apply tanh() on concatenated output\n",
    "        # attention_vector shape should be (batch_size, wc_neurons)\n",
    "        attention_vector = self.wc(concat_out)\n",
    "        \n",
    "        logits = self.uc(attention_vector)\n",
    "        \n",
    "        return logits, state, attention_weights\n",
    "\n",
    "    def reset_state(self, batch_size):\n",
    "        return tf.zeros((batch_size, self.units))"
   ]
  },
  {
   "cell_type": "code",
   "execution_count": null,
   "metadata": {
    "colab": {},
    "colab_type": "code",
    "id": "Qs_Sr03wRPGk"
   },
   "outputs": [],
   "source": [
    "encoder = CNN_Encoder(embedding_dim)\n",
    "decoder = RNN_Decoder(embedding_dim, units, vocab_size)"
   ]
  },
  {
   "cell_type": "markdown",
   "metadata": {},
   "source": [
    "## Define the optimizer and the loss function\n",
    "\n",
    "This is the same as previous exercises"
   ]
  },
  {
   "cell_type": "code",
   "execution_count": null,
   "metadata": {
    "colab": {},
    "colab_type": "code",
    "id": "-bYN7xA0RPGl"
   },
   "outputs": [],
   "source": [
    "optimizer = tf.keras.optimizers.Adam()\n",
    "loss_object = tf.keras.losses.SparseCategoricalCrossentropy(\n",
    "    from_logits=True, reduction='none')\n",
    "\n",
    "def loss_function(real, pred):\n",
    "    mask = tf.math.logical_not(tf.math.equal(real, 0))\n",
    "    loss_ = loss_object(real, pred)\n",
    "\n",
    "    mask = tf.cast(mask, dtype=loss_.dtype)\n",
    "    loss_ *= mask\n",
    "\n",
    "    return tf.reduce_mean(loss_)"
   ]
  },
  {
   "cell_type": "markdown",
   "metadata": {
    "colab_type": "text",
    "id": "6A3Ni64joyab"
   },
   "source": [
    "## Checkpoint"
   ]
  },
  {
   "cell_type": "code",
   "execution_count": null,
   "metadata": {},
   "outputs": [],
   "source": [
    "checkpoint_dir = './training_checkpoints'\n",
    "checkpoint_prefix = os.path.join(checkpoint_dir, \"ckpt\")\n",
    "checkpoint = tf.train.Checkpoint(optimizer=optimizer,\n",
    "                                 encoder=encoder,\n",
    "                                 decoder=decoder)"
   ]
  },
  {
   "cell_type": "markdown",
   "metadata": {
    "colab_type": "text",
    "id": "PHod7t72RPGn"
   },
   "source": [
    "## Training\n",
    "\n",
    "* You extract the features stored in the respective `.npy` files and then pass those features through the encoder.\n",
    "* The encoder output, hidden state(initialized to 0) and the decoder input (which is the start token) is passed to the decoder.\n",
    "* The decoder returns the predictions and the decoder hidden state.\n",
    "* The decoder hidden state is then passed back into the model and the predictions are used to calculate the loss.\n",
    "* Use teacher forcing to decide the next input to the decoder.\n",
    "* Teacher forcing is the technique where the target word is passed as the next input to the decoder.\n",
    "* The final step is to calculate the gradients and apply it to the optimizer and backpropagate.\n"
   ]
  },
  {
   "cell_type": "code",
   "execution_count": null,
   "metadata": {
    "colab": {},
    "colab_type": "code",
    "id": "Vt4WZ5mhJE-E"
   },
   "outputs": [],
   "source": [
    "# adding this in a separate cell because if you run the training cell\n",
    "# many times, the loss_plot array will be reset\n",
    "loss_plot = []"
   ]
  },
  {
   "cell_type": "code",
   "execution_count": null,
   "metadata": {
    "colab": {},
    "colab_type": "code",
    "id": "sqgyz2ANKlpU"
   },
   "outputs": [],
   "source": [
    "@tf.function\n",
    "def train_step(img_tensor, target):\n",
    "    loss = 0\n",
    "\n",
    "    # initializing the hidden state for each batch\n",
    "    # because the captions are not related from image to image\n",
    "    hidden = decoder.reset_state(batch_size=target.shape[0])\n",
    "\n",
    "    dec_input = tf.expand_dims([tokenizer.word_index['<start>']] * target.shape[0], 1)\n",
    "\n",
    "    with tf.GradientTape() as tape:\n",
    "            features = encoder(img_tensor)\n",
    "\n",
    "            for i in range(1, target.shape[1]):\n",
    "                # passing the features through the decoder\n",
    "                predictions, hidden, _ = decoder(dec_input, features, hidden)\n",
    "\n",
    "                loss += loss_function(target[:, i], predictions)\n",
    "\n",
    "                # using teacher forcing\n",
    "                dec_input = tf.expand_dims(target[:, i], 1)\n",
    "\n",
    "    total_loss = (loss / int(target.shape[1]))\n",
    "\n",
    "    trainable_variables = encoder.trainable_variables + decoder.trainable_variables\n",
    "\n",
    "    gradients = tape.gradient(loss, trainable_variables)\n",
    "\n",
    "    optimizer.apply_gradients(zip(gradients, trainable_variables))\n",
    "\n",
    "    return loss, total_loss"
   ]
  },
  {
   "cell_type": "markdown",
   "metadata": {},
   "source": [
    "To get a reasonable performance, we will need to train our model for about 20 epochs. This will take about half-an-hour on a Tesla T4 GPU. \n",
    "\n",
    "If you don't wish to train for that long, just set the flag `USE_PRETRAINED = True`. This will download the checkpoints from the pretrained model, and restore from the pretrained checkpoints."
   ]
  },
  {
   "cell_type": "code",
   "execution_count": null,
   "metadata": {},
   "outputs": [],
   "source": [
    "USE_PRETRAINED = False\n",
    "\n",
    "if USE_PRETRAINED: \n",
    "    pretrained_ckpt_url = 'https://sdaai-bucket.s3-ap-southeast-1.amazonaws.com/pretrained-weights/iti107/session-9/pretrained_ckpt.tar.gz'\n",
    "    pretrained_checkpoints_zip = tf.keras.utils.get_file('pretrained_ckpt.tar.gz',\n",
    "                                          cache_subdir=os.path.abspath('.'),\n",
    "                                          origin = pretrained_ckpt_url,\n",
    "                                          extract = True)\n",
    "    os.remove(pretrained_checkpoints_zip)\n",
    "    checkpoint.restore(tf.train.latest_checkpoint(checkpoint_dir))\n",
    "    \n",
    "else:\n",
    "    EPOCHS = 30\n",
    "    \n",
    "    for epoch in range(EPOCHS):\n",
    "        start = time.time()\n",
    "        total_loss = 0\n",
    "\n",
    "        for (batch, (img_tensor, target)) in enumerate(dataset):\n",
    "            batch_loss, t_loss = train_step(img_tensor, target)\n",
    "            total_loss += t_loss\n",
    "\n",
    "            if batch % 100 == 0:\n",
    "                print ('Epoch {} Batch {} Loss {:.4f}'.format(\n",
    "                  epoch + 1, batch, batch_loss.numpy() / int(target.shape[1])))\n",
    "        # storing the epoch end loss value to plot later\n",
    "        loss_plot.append(total_loss / num_steps)\n",
    "\n",
    "        if (epoch + 1) % 2 == 0:\n",
    "            #ckpt_manager.save()\n",
    "            checkpoint.save(file_prefix = checkpoint_prefix)\n",
    "\n",
    "        print ('Epoch {} Loss {:.6f}'.format(epoch + 1,\n",
    "                                             total_loss/num_steps))\n",
    "        print ('Time taken for 1 epoch {} sec\\n'.format(time.time() - start))\n",
    "\n",
    "    plt.plot(loss_plot)\n",
    "    plt.xlabel('Epochs')\n",
    "    plt.ylabel('Loss')\n",
    "    plt.title('Loss Plot')\n",
    "    plt.show()"
   ]
  },
  {
   "cell_type": "markdown",
   "metadata": {
    "colab_type": "text",
    "id": "xGvOcLQKghXN"
   },
   "source": [
    "## Caption!\n",
    "\n",
    "* The evaluate function is similar to the training loop, except you don't use teacher forcing here. The input to the decoder at each time step is its previous predictions along with the hidden state and the encoder output.\n",
    "* Stop predicting when the model predicts the end token.\n",
    "* And store the attention weights for every time step."
   ]
  },
  {
   "cell_type": "code",
   "execution_count": null,
   "metadata": {
    "colab": {},
    "colab_type": "code",
    "id": "RCWpDtyNRPGs"
   },
   "outputs": [],
   "source": [
    "def evaluate(image):\n",
    "    attention_plot = np.zeros((max_length, attention_features_shape))\n",
    "\n",
    "    hidden = decoder.reset_state(batch_size=1)\n",
    "\n",
    "    temp_input = tf.expand_dims(load_image(image)[0], 0)\n",
    "    img_tensor_val = image_features_extract_model(temp_input)\n",
    "    img_tensor_val = tf.reshape(img_tensor_val, (img_tensor_val.shape[0], -1, img_tensor_val.shape[3]))\n",
    "\n",
    "    features = encoder(img_tensor_val)\n",
    "\n",
    "    dec_input = tf.expand_dims([tokenizer.word_index['<start>']], 0)\n",
    "    result = []\n",
    "\n",
    "    for i in range(max_length):\n",
    "        predictions, hidden, attention_weights = decoder(dec_input, features, hidden)\n",
    "\n",
    "        attention_plot[i] = tf.reshape(attention_weights, (-1, )).numpy()\n",
    "\n",
    "        predicted_id = tf.random.categorical(predictions, 1)[0][0].numpy()\n",
    "        result.append(tokenizer.index_word[predicted_id])\n",
    "\n",
    "        if tokenizer.index_word[predicted_id] == '<end>':\n",
    "            return result, attention_plot\n",
    "\n",
    "        dec_input = tf.expand_dims([predicted_id], 0)\n",
    "\n",
    "    attention_plot = attention_plot[:len(result), :]\n",
    "    return result, attention_plot"
   ]
  },
  {
   "cell_type": "code",
   "execution_count": null,
   "metadata": {},
   "outputs": [],
   "source": [
    "def plot_image(image_path):\n",
    "    img = plt.imread(image_path)\n",
    "    plt.imshow(img)"
   ]
  },
  {
   "cell_type": "code",
   "execution_count": null,
   "metadata": {
    "colab": {},
    "colab_type": "code",
    "id": "fD_y7PD6RPGt"
   },
   "outputs": [],
   "source": [
    "def plot_attention(image, result, attention_plot):\n",
    "    temp_image = np.array(Image.open(image))\n",
    "\n",
    "    fig = plt.figure(figsize=(10, 10))\n",
    "\n",
    "    len_result = len(result)\n",
    "    print(len_result)\n",
    "    for l in range(len_result):\n",
    "        temp_att = np.resize(attention_plot[l], (8, 8))\n",
    "        ax = fig.add_subplot(len_result//2, len_result//2, l+1)\n",
    "        ax.set_title(result[l])\n",
    "        img = ax.imshow(temp_image)\n",
    "        ax.imshow(temp_att, cmap='gray', alpha=0.6, extent=img.get_extent())\n",
    "\n",
    "    plt.tight_layout()\n",
    "    plt.show()"
   ]
  },
  {
   "cell_type": "code",
   "execution_count": null,
   "metadata": {
    "colab": {},
    "colab_type": "code",
    "id": "7x8RiPHe_4qI"
   },
   "outputs": [],
   "source": [
    "# captions on the validation set\n",
    "rid = np.random.randint(0, len(val_image_ids))\n",
    "image_id = val_image_ids[rid]\n",
    "image_path = os.path.join(dataset_dir, image_id.split('#')[0])\n",
    "print(image_path)\n",
    "real_caption = ' '.join([tokenizer.index_word[i] for i in val_cap_vector[rid] if i not in [0]])\n",
    "result, attention_plot = evaluate(image_path)\n",
    "\n",
    "print ('Real Caption:', real_caption)\n",
    "print ('Prediction Caption:', ' '.join(result))\n",
    "print(attention_plot.shape)\n",
    "plot_attention(image_path, result, attention_plot)\n",
    "plot_image(image_path)"
   ]
  },
  {
   "cell_type": "markdown",
   "metadata": {
    "colab_type": "text",
    "id": "Rprk3HEvZuxb"
   },
   "source": [
    "## Try it on your own images\n",
    "For fun, below we've provided a method you can use to caption your own images with the model we've just trained. Keep in mind, it was trained on a relatively small amount of data, and your images may be different from the training data (so be prepared for weird results!)\n"
   ]
  },
  {
   "cell_type": "code",
   "execution_count": null,
   "metadata": {
    "colab": {},
    "colab_type": "code",
    "id": "9Psd1quzaAWg"
   },
   "outputs": [],
   "source": [
    "image_path = 'surf.jpg'\n",
    "result, attention_plot = evaluate(image_path)\n",
    "print ('Prediction Caption:', ' '.join(result))\n",
    "plot_attention(image_path, result, attention_plot)\n",
    "# opening the image\n",
    "Image.open(image_path)"
   ]
  },
  {
   "cell_type": "markdown",
   "metadata": {
    "colab_type": "text",
    "id": "VJZXyJco6uLO"
   },
   "source": [
    "## Additional Exercise\n",
    "\n",
    "* Experiment with training with more epochs and see if model gives a better caption.\n",
    "* Download a larger dataset such as Flickr30K or MS COCO."
   ]
  }
 ],
 "metadata": {
  "accelerator": "GPU",
  "colab": {
   "collapsed_sections": [],
   "name": "image_captioning.ipynb",
   "private_outputs": true,
   "provenance": [],
   "toc_visible": true
  },
  "kernelspec": {
   "display_name": "Python (tf2env)",
   "language": "python",
   "name": "tf2env"
  },
  "language_info": {
   "codemirror_mode": {
    "name": "ipython",
    "version": 3
   },
   "file_extension": ".py",
   "mimetype": "text/x-python",
   "name": "python",
   "nbconvert_exporter": "python",
   "pygments_lexer": "ipython3",
   "version": "3.7.9"
  }
 },
 "nbformat": 4,
 "nbformat_minor": 4
}
