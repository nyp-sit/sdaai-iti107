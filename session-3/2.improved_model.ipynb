{
 "cells": [
  {
   "cell_type": "markdown",
   "metadata": {},
   "source": [
    "<a href=\"https://colab.research.google.comgithub/nyp-sit/sdaai-iti107/blob/main/session-3/improved_model.ipynb\" target=\"_parent\"><img src=\"https://colab.research.google.com/assets/colab-badge.svg\" alt=\"Open In Colab\" align=\"left\"/></a>"
   ]
  },
  {
   "cell_type": "markdown",
   "metadata": {},
   "source": [
    "# Improved model using Transfer Learning\n",
    "\n",
    "Welcome to this week's programming exercise. In this exercise, we use transfer learning to improve our baseline model. We make use of a model (VGG19) that is already trained on ImageNet and use the convolutional neural network as a feature extractor and train a classifier specifically for our emotion classification task.\n",
    "\n",
    "At the end of this exercise, you will be able to: \n",
    "- understand how to load a pretrained model with and without the classification layer  \n",
    "- extract training features using the pre-trained model as feature extractor\n",
    "- train a classifier using the extracted features \n"
   ]
  },
  {
   "cell_type": "code",
   "execution_count": 2,
   "metadata": {},
   "outputs": [],
   "source": [
    "from __future__ import print_function\n",
    "\n",
    "import os\n",
    "import json\n",
    "import shutil\n",
    "import numpy as np\n",
    "\n",
    "\n",
    "import tensorflow as tf\n",
    "from tensorflow.keras.models import Model, load_model\n",
    "from tensorflow.keras.layers import Input, Flatten, Dense, Dropout, GlobalAveragePooling2D\n",
    "from tensorflow.keras.optimizers import Adam\n",
    "from tensorflow.keras.callbacks import ModelCheckpoint\n",
    "from tensorflow.keras.applications import VGG19\n",
    "from tensorflow.keras.preprocessing.image import ImageDataGenerator, array_to_img, img_to_array, load_img\n",
    "\n",
    "from sklearn.metrics import classification_report, accuracy_score, roc_auc_score, roc_curve, \\\n",
    "                            precision_recall_curve, average_precision_score, confusion_matrix\n",
    "import pickle\n",
    "import matplotlib\n",
    "import matplotlib.pyplot as plt\n",
    "\n",
    "%matplotlib inline"
   ]
  },
  {
   "cell_type": "markdown",
   "metadata": {},
   "source": [
    "## Prepare Data"
   ]
  },
  {
   "cell_type": "code",
   "execution_count": 5,
   "metadata": {},
   "outputs": [
    {
     "name": "stdout",
     "output_type": "stream",
     "text": [
      ".\\datasets\\intel.zip\n"
     ]
    }
   ],
   "source": [
    "dataset_URL = 'https://nyp-aicourse.s3.ap-southeast-1.amazonaws.com/iti107/datasets/intel_emotions_dataset.zip'\n",
    "path_to_zip = tf.keras.utils.get_file('intel.zip', origin=dataset_URL, extract=True, cache_dir='.')\n",
    "print(path_to_zip)"
   ]
  },
  {
   "cell_type": "code",
   "execution_count": 6,
   "metadata": {},
   "outputs": [
    {
     "name": "stdout",
     "output_type": "stream",
     "text": [
      ".\\datasets\n"
     ]
    }
   ],
   "source": [
    "dataset_dir = os.path.dirname(path_to_zip)\n",
    "print(dataset_dir)\n",
    "pos_path = os.path.join(dataset_dir, 'Positive')\n",
    "neg_path = os.path.join(dataset_dir, 'Negative')"
   ]
  },
  {
   "cell_type": "code",
   "execution_count": 7,
   "metadata": {},
   "outputs": [],
   "source": [
    "# adjust this to larger or smaller size\n",
    "img_height, img_width = 200, 200"
   ]
  },
  {
   "cell_type": "markdown",
   "metadata": {},
   "source": [
    "## Pre-trained Model as Feature Extractor"
   ]
  },
  {
   "cell_type": "markdown",
   "metadata": {},
   "source": [
    "We will be using VGG19 as our pretrained model (you can choose any other pretrained model, such as ResNet, etc). Keras comes with a set of [pretrained models](https://www.tensorflow.org/api_docs/python/tf/keras/applications) you can choose from. In the following call, we load the model VGG19 without including the classification layers (`include_top=False`). In the weights, we specify that we want to download the weights that was trained on ImageNet dataset."
   ]
  },
  {
   "cell_type": "code",
   "execution_count": 8,
   "metadata": {},
   "outputs": [
    {
     "name": "stdout",
     "output_type": "stream",
     "text": [
      "Downloading data from https://storage.googleapis.com/tensorflow/keras-applications/vgg19/vgg19_weights_tf_dim_ordering_tf_kernels_notop.h5\n",
      "80142336/80134624 [==============================] - 5s 0us/step\n",
      "Model: \"vgg19\"\n",
      "_________________________________________________________________\n",
      "Layer (type)                 Output Shape              Param #   \n",
      "=================================================================\n",
      "input_1 (InputLayer)         [(None, 200, 200, 3)]     0         \n",
      "_________________________________________________________________\n",
      "block1_conv1 (Conv2D)        (None, 200, 200, 64)      1792      \n",
      "_________________________________________________________________\n",
      "block1_conv2 (Conv2D)        (None, 200, 200, 64)      36928     \n",
      "_________________________________________________________________\n",
      "block1_pool (MaxPooling2D)   (None, 100, 100, 64)      0         \n",
      "_________________________________________________________________\n",
      "block2_conv1 (Conv2D)        (None, 100, 100, 128)     73856     \n",
      "_________________________________________________________________\n",
      "block2_conv2 (Conv2D)        (None, 100, 100, 128)     147584    \n",
      "_________________________________________________________________\n",
      "block2_pool (MaxPooling2D)   (None, 50, 50, 128)       0         \n",
      "_________________________________________________________________\n",
      "block3_conv1 (Conv2D)        (None, 50, 50, 256)       295168    \n",
      "_________________________________________________________________\n",
      "block3_conv2 (Conv2D)        (None, 50, 50, 256)       590080    \n",
      "_________________________________________________________________\n",
      "block3_conv3 (Conv2D)        (None, 50, 50, 256)       590080    \n",
      "_________________________________________________________________\n",
      "block3_conv4 (Conv2D)        (None, 50, 50, 256)       590080    \n",
      "_________________________________________________________________\n",
      "block3_pool (MaxPooling2D)   (None, 25, 25, 256)       0         \n",
      "_________________________________________________________________\n",
      "block4_conv1 (Conv2D)        (None, 25, 25, 512)       1180160   \n",
      "_________________________________________________________________\n",
      "block4_conv2 (Conv2D)        (None, 25, 25, 512)       2359808   \n",
      "_________________________________________________________________\n",
      "block4_conv3 (Conv2D)        (None, 25, 25, 512)       2359808   \n",
      "_________________________________________________________________\n",
      "block4_conv4 (Conv2D)        (None, 25, 25, 512)       2359808   \n",
      "_________________________________________________________________\n",
      "block4_pool (MaxPooling2D)   (None, 12, 12, 512)       0         \n",
      "_________________________________________________________________\n",
      "block5_conv1 (Conv2D)        (None, 12, 12, 512)       2359808   \n",
      "_________________________________________________________________\n",
      "block5_conv2 (Conv2D)        (None, 12, 12, 512)       2359808   \n",
      "_________________________________________________________________\n",
      "block5_conv3 (Conv2D)        (None, 12, 12, 512)       2359808   \n",
      "_________________________________________________________________\n",
      "block5_conv4 (Conv2D)        (None, 12, 12, 512)       2359808   \n",
      "_________________________________________________________________\n",
      "block5_pool (MaxPooling2D)   (None, 6, 6, 512)         0         \n",
      "=================================================================\n",
      "Total params: 20,024,384\n",
      "Trainable params: 20,024,384\n",
      "Non-trainable params: 0\n",
      "_________________________________________________________________\n"
     ]
    }
   ],
   "source": [
    "model_pretrained = VGG19(include_top=False, \n",
    "                         weights=\"imagenet\",  \n",
    "                         input_shape=(img_height, img_width, 3))\n",
    "\n",
    "model_pretrained.summary()"
   ]
  },
  {
   "cell_type": "markdown",
   "metadata": {},
   "source": [
    "**Question:**\n",
    "\n",
    "- What is the last layer in the pretrained model and what is the output shape? Do you have any Fully connected layers?\n",
    "\n",
    "<details><summary>Click here for answer</summary>\n",
    "\n",
    "The last layer is the MaxPooling2D layer. The output is a 512 feature maps of 4x4 size. There is no Fully connected (Dense) layers. The network is a convolutional base network.\n",
    "\n",
    "</details>"
   ]
  },
  {
   "cell_type": "code",
   "execution_count": 37,
   "metadata": {},
   "outputs": [],
   "source": [
    "from tensorflow.keras.applications import vgg19\n",
    "\n",
    "vgg_preprocess_input_fn = vgg19.preprocess_input"
   ]
  },
  {
   "cell_type": "code",
   "execution_count": 39,
   "metadata": {},
   "outputs": [],
   "source": [
    "datagen = ImageDataGenerator(rescale=1. / 255, validation_split=0.2, preprocessing_function=vgg_preprocess_input_fn)"
   ]
  },
  {
   "cell_type": "code",
   "execution_count": 40,
   "metadata": {},
   "outputs": [
    {
     "name": "stdout",
     "output_type": "stream",
     "text": [
      "Found 1305 images belonging to 2 classes.\n",
      "Found 325 images belonging to 2 classes.\n"
     ]
    }
   ],
   "source": [
    "train_gen = datagen.flow_from_directory(dataset_dir, \n",
    "                                        target_size=(img_height, img_width), \n",
    "                                        class_mode=None, \n",
    "                                        batch_size=8, \n",
    "                                        shuffle=False,\n",
    "                                        subset='training')\n",
    "\n",
    "validation_gen = datagen.flow_from_directory(dataset_dir, \n",
    "                                             target_size=(img_height, img_width), \n",
    "                                             class_mode=None, \n",
    "                                             batch_size=8, \n",
    "                                             shuffle=False,\n",
    "                                             subset='validation')"
   ]
  },
  {
   "cell_type": "code",
   "execution_count": 41,
   "metadata": {},
   "outputs": [
    {
     "data": {
      "text/plain": [
       "{'Negative': 0, 'Positive': 1}"
      ]
     },
     "execution_count": 41,
     "metadata": {},
     "output_type": "execute_result"
    }
   ],
   "source": [
    "train_gen.class_indices"
   ]
  },
  {
   "cell_type": "code",
   "execution_count": 42,
   "metadata": {},
   "outputs": [
    {
     "name": "stdout",
     "output_type": "stream",
     "text": [
      "num of train steps per epoch 164\n",
      "num of validation steps per epoch 41\n"
     ]
    }
   ],
   "source": [
    "train_steps_per_epoch = int(np.ceil(train_gen.n * 1. / train_gen.batch_size))\n",
    "print('num of train steps per epoch {}'.format(train_steps_per_epoch))\n",
    "validation_steps_per_epoch = int(np.ceil(validation_gen.n * 1. / validation_gen.batch_size))\n",
    "print('num of validation steps per epoch {}'.format(validation_steps_per_epoch))"
   ]
  },
  {
   "cell_type": "markdown",
   "metadata": {},
   "source": [
    "### Extracting features on the train set \n",
    "\n",
    "We use `predict()` to loop through all the train images (and also the validation images). The output will be the features spit out by the convolutional base. We will then use these features as our training samples instead of the original images."
   ]
  },
  {
   "cell_type": "code",
   "execution_count": 43,
   "metadata": {},
   "outputs": [
    {
     "name": "stdout",
     "output_type": "stream",
     "text": [
      "164/164 [==============================] - 20s 122ms/step\n"
     ]
    }
   ],
   "source": [
    "X_train = model_pretrained.predict(train_gen, \n",
    "                                   steps=train_steps_per_epoch, \n",
    "                                   verbose=1)\n",
    "\n",
    "y_train = train_gen.classes\n",
    "\n",
    "np.save(os.path.join(dataset_dir, \"train_features.npy\"), X_train)\n",
    "np.save(os.path.join(dataset_dir, \"train_classes.npy\"), y_train)"
   ]
  },
  {
   "cell_type": "code",
   "execution_count": 44,
   "metadata": {},
   "outputs": [
    {
     "name": "stdout",
     "output_type": "stream",
     "text": [
      "41/41 [==============================] - 5s 125ms/step\n",
      "Features are calculated!\n"
     ]
    }
   ],
   "source": [
    "X_valid = model_pretrained.predict(validation_gen, \n",
    "                                   steps=validation_steps_per_epoch, \n",
    "                                   verbose=1)\n",
    "\n",
    "y_valid = validation_gen.classes\n",
    "\n",
    "np.save(os.path.join(dataset_dir, \"valid_features.npy\"), X_valid)\n",
    "np.save(os.path.join(dataset_dir, \"valid_classes.npy\"), y_valid)\n",
    "\n",
    "print(\"Features are calculated!\")"
   ]
  },
  {
   "cell_type": "markdown",
   "metadata": {},
   "source": [
    "## Classification model\n",
    "\n",
    "Now we will build a new model that takes in the extracted features as input. Instead of the usual flatten layer, followed by dense layers, let us use a GAP layer, followed by Dense, a Droput and another Dense that output the prediction. \n",
    "\n",
    "**Questions:**\n",
    "\n",
    "1. What should be input shape to our model? \n",
    "2. What is the output shape of the Global Average Pooling (GAP) layer? \n",
    "3. How many units we need for output, and what should we use as activation function? \n",
    "\n",
    "Complete the code below. \n",
    "\n",
    "<details><summary>Click here for answer</summary>\n",
    "    \n",
    "1. The input shape should be (4, 4, 512) which is the output shape of our convolutional base\n",
    "2. The output shape of GAP is (512) since the maxpooling layer (the last layer) of the convolutional base has 512 feature maps (channels). \n",
    "3. We need only 1 output unit as we are doing binary classification (0 or 1) and we should use 'sigmoid' as the activation function for binary classification. \n",
    "\n",
    "Codes: \n",
    "\n",
    "```\n",
    "inp = Input(shape=X_train.shape[1:])\n",
    "fl = GlobalAveragePooling2D()(inp)\n",
    "fc1 = Dense(units=512, activation=\"relu\", kernel_initializer=\"he_normal\")(fl)\n",
    "dp1 = Dropout(rate=0.5)(fc1)\n",
    "out = Dense(units=1, activation=\"sigmoid\")(dp1)\n",
    "\n",
    "model_top = Model(inputs=[inp], outputs=[out], name=\"top\")\n",
    "\n",
    "``` \n",
    "\n",
    "</details>\n"
   ]
  },
  {
   "cell_type": "code",
   "execution_count": 45,
   "metadata": {},
   "outputs": [
    {
     "name": "stderr",
     "output_type": "stream",
     "text": [
      "C:\\Users\\markk\\miniconda3\\envs\\dlenv\\lib\\site-packages\\tensorflow\\python\\keras\\optimizer_v2\\optimizer_v2.py:374: UserWarning: The `lr` argument is deprecated, use `learning_rate` instead.\n",
      "  warnings.warn(\n"
     ]
    }
   ],
   "source": [
    "# Build the model here, you can use either Keras Sequential or functional API to build your model\n",
    "\n",
    "### START YOUR CODE HERE ###\n",
    "\n",
    "## build your layers here, include the input layer\n",
    "\n",
    "# define the inputs and outputs of the model \n",
    "inp = Input(shape=X_train.shape[1:])\n",
    "fl = GlobalAveragePooling2D()(inp)\n",
    "fc1 = Dense(units=512, activation=\"relu\", kernel_initializer=\"he_normal\")(fl)\n",
    "dp1 = Dropout(rate=0.5)(fc1)\n",
    "out = Dense(units=1, activation=\"sigmoid\")(dp1)\n",
    "\n",
    "model_top = Model(inputs=[inp], outputs=[out], name=\"top\")\n",
    "\n",
    "model_top.compile(loss=\"binary_crossentropy\", \n",
    "                  optimizer=Adam(lr=0.0001), \n",
    "                  metrics=[\"accuracy\"])\n",
    "\n",
    "### END YOUR CODE HERE ###    \n"
   ]
  },
  {
   "cell_type": "code",
   "execution_count": 46,
   "metadata": {},
   "outputs": [
    {
     "name": "stdout",
     "output_type": "stream",
     "text": [
      "Model: \"top\"\n",
      "_________________________________________________________________\n",
      "Layer (type)                 Output Shape              Param #   \n",
      "=================================================================\n",
      "input_4 (InputLayer)         [(None, 6, 6, 512)]       0         \n",
      "_________________________________________________________________\n",
      "global_average_pooling2d_1 ( (None, 512)               0         \n",
      "_________________________________________________________________\n",
      "dense_2 (Dense)              (None, 512)               262656    \n",
      "_________________________________________________________________\n",
      "dropout_1 (Dropout)          (None, 512)               0         \n",
      "_________________________________________________________________\n",
      "dense_3 (Dense)              (None, 1)                 513       \n",
      "=================================================================\n",
      "Total params: 263,169\n",
      "Trainable params: 263,169\n",
      "Non-trainable params: 0\n",
      "_________________________________________________________________\n"
     ]
    }
   ],
   "source": [
    "model_top.summary()"
   ]
  },
  {
   "cell_type": "markdown",
   "metadata": {},
   "source": [
    "Now we train our classifier we the extracted features (X_train) for 100 epochs. The training will be fast, as we only have very few parameters (around 200k) to train."
   ]
  },
  {
   "cell_type": "code",
   "execution_count": 47,
   "metadata": {},
   "outputs": [
    {
     "name": "stdout",
     "output_type": "stream",
     "text": [
      "Epoch 1/30\n",
      "41/41 [==============================] - 1s 9ms/step - loss: 0.7430 - accuracy: 0.5287 - val_loss: 0.6812 - val_accuracy: 0.5662\n",
      "Epoch 2/30\n",
      "41/41 [==============================] - 0s 6ms/step - loss: 0.7257 - accuracy: 0.5418 - val_loss: 0.6644 - val_accuracy: 0.6215\n",
      "Epoch 3/30\n",
      "41/41 [==============================] - 0s 6ms/step - loss: 0.7019 - accuracy: 0.5640 - val_loss: 0.6527 - val_accuracy: 0.6215\n",
      "Epoch 4/30\n",
      "41/41 [==============================] - 0s 6ms/step - loss: 0.6901 - accuracy: 0.5747 - val_loss: 0.6427 - val_accuracy: 0.6646\n",
      "Epoch 5/30\n",
      "41/41 [==============================] - 0s 5ms/step - loss: 0.6820 - accuracy: 0.5762 - val_loss: 0.6361 - val_accuracy: 0.6615\n",
      "Epoch 6/30\n",
      "41/41 [==============================] - 0s 6ms/step - loss: 0.6636 - accuracy: 0.6046 - val_loss: 0.6298 - val_accuracy: 0.6646\n",
      "Epoch 7/30\n",
      "41/41 [==============================] - 0s 6ms/step - loss: 0.6539 - accuracy: 0.6230 - val_loss: 0.6228 - val_accuracy: 0.6646\n",
      "Epoch 8/30\n",
      "41/41 [==============================] - 0s 6ms/step - loss: 0.6446 - accuracy: 0.6314 - val_loss: 0.6278 - val_accuracy: 0.6431\n",
      "Epoch 9/30\n",
      "41/41 [==============================] - 0s 6ms/step - loss: 0.6377 - accuracy: 0.6307 - val_loss: 0.6127 - val_accuracy: 0.6769\n",
      "Epoch 10/30\n",
      "41/41 [==============================] - 0s 6ms/step - loss: 0.6364 - accuracy: 0.6375 - val_loss: 0.6097 - val_accuracy: 0.6923\n",
      "Epoch 11/30\n",
      "41/41 [==============================] - 0s 6ms/step - loss: 0.6286 - accuracy: 0.6506 - val_loss: 0.6112 - val_accuracy: 0.6554\n",
      "Epoch 12/30\n",
      "41/41 [==============================] - 0s 6ms/step - loss: 0.6238 - accuracy: 0.6536 - val_loss: 0.6046 - val_accuracy: 0.6862\n",
      "Epoch 13/30\n",
      "41/41 [==============================] - 0s 6ms/step - loss: 0.6188 - accuracy: 0.6575 - val_loss: 0.6045 - val_accuracy: 0.6677\n",
      "Epoch 14/30\n",
      "41/41 [==============================] - 0s 6ms/step - loss: 0.6026 - accuracy: 0.6644 - val_loss: 0.5975 - val_accuracy: 0.6985\n",
      "Epoch 15/30\n",
      "41/41 [==============================] - 0s 6ms/step - loss: 0.6115 - accuracy: 0.6605 - val_loss: 0.5982 - val_accuracy: 0.6923\n",
      "Epoch 16/30\n",
      "41/41 [==============================] - 0s 6ms/step - loss: 0.5961 - accuracy: 0.6720 - val_loss: 0.6008 - val_accuracy: 0.6738\n",
      "Epoch 17/30\n",
      "41/41 [==============================] - 0s 6ms/step - loss: 0.6063 - accuracy: 0.6797 - val_loss: 0.5916 - val_accuracy: 0.6985\n",
      "Epoch 18/30\n",
      "41/41 [==============================] - 0s 7ms/step - loss: 0.6073 - accuracy: 0.6789 - val_loss: 0.5955 - val_accuracy: 0.6708\n",
      "Epoch 19/30\n",
      "41/41 [==============================] - 0s 6ms/step - loss: 0.5845 - accuracy: 0.6966 - val_loss: 0.5894 - val_accuracy: 0.6923\n",
      "Epoch 20/30\n",
      "41/41 [==============================] - 0s 6ms/step - loss: 0.5821 - accuracy: 0.6828 - val_loss: 0.5909 - val_accuracy: 0.6954\n",
      "Epoch 21/30\n",
      "41/41 [==============================] - 0s 6ms/step - loss: 0.5832 - accuracy: 0.6858 - val_loss: 0.5912 - val_accuracy: 0.6892\n",
      "Epoch 22/30\n",
      "41/41 [==============================] - 0s 6ms/step - loss: 0.5815 - accuracy: 0.6904 - val_loss: 0.5874 - val_accuracy: 0.6769\n",
      "Epoch 23/30\n",
      "41/41 [==============================] - 0s 6ms/step - loss: 0.5780 - accuracy: 0.6989 - val_loss: 0.5871 - val_accuracy: 0.6831\n",
      "Epoch 24/30\n",
      "41/41 [==============================] - 0s 6ms/step - loss: 0.5721 - accuracy: 0.6958 - val_loss: 0.5853 - val_accuracy: 0.6892\n",
      "Epoch 25/30\n",
      "41/41 [==============================] - 0s 6ms/step - loss: 0.5690 - accuracy: 0.7073 - val_loss: 0.5842 - val_accuracy: 0.7046\n",
      "Epoch 26/30\n",
      "41/41 [==============================] - 0s 6ms/step - loss: 0.5680 - accuracy: 0.7027 - val_loss: 0.5846 - val_accuracy: 0.6862\n",
      "Epoch 27/30\n",
      "41/41 [==============================] - 0s 6ms/step - loss: 0.5625 - accuracy: 0.7103 - val_loss: 0.5875 - val_accuracy: 0.6738\n",
      "Epoch 28/30\n",
      "41/41 [==============================] - 0s 6ms/step - loss: 0.5585 - accuracy: 0.7149 - val_loss: 0.5807 - val_accuracy: 0.7046\n",
      "Epoch 29/30\n",
      "41/41 [==============================] - 0s 6ms/step - loss: 0.5588 - accuracy: 0.7042 - val_loss: 0.5839 - val_accuracy: 0.6862\n",
      "Epoch 30/30\n",
      "41/41 [==============================] - 0s 6ms/step - loss: 0.5505 - accuracy: 0.7234 - val_loss: 0.5831 - val_accuracy: 0.6862\n"
     ]
    }
   ],
   "source": [
    "hist_top = model_top.fit(X_train, y_train, \n",
    "                         epochs=30, \n",
    "                         validation_data=(X_valid, y_valid), \n",
    "                         verbose=1)\n",
    "\n",
    "model_top.save(os.path.join(\"model_top.h5\"))\n",
    "# save the history of training\n",
    "with open(os.path.join('hist_top.history'), 'wb') as f:\n",
    "    pickle.dump(hist_top.history, f)\n",
    "hist_top = hist_top.history"
   ]
  },
  {
   "cell_type": "code",
   "execution_count": 48,
   "metadata": {},
   "outputs": [
    {
     "data": {
      "image/png": "[encoded data removed]",
      "text/plain": [
       "<Figure size 1080x432 with 2 Axes>"
      ]
     },
     "metadata": {
      "needs_background": "light"
     },
     "output_type": "display_data"
    }
   ],
   "source": [
    "plt.figure(figsize=(15, 6))\n",
    "plt.suptitle(\"Training progress for pretrained model\", fontsize=20)\n",
    "\n",
    "plt.subplot(121)\n",
    "plt.plot(hist_top[\"loss\"], label=\"Train\")\n",
    "plt.plot(hist_top[\"val_loss\"], label=\"Validation\")\n",
    "plt.legend()\n",
    "plt.ylabel(\"Crossentropy loss\")\n",
    "plt.xlabel(\"Epoch\")\n",
    "\n",
    "plt.subplot(122)\n",
    "plt.plot(np.array(hist_top[\"accuracy\"]) * 100, label=\"Train\")\n",
    "plt.plot(np.array(hist_top[\"val_accuracy\"]) * 100, label=\"Validation\")\n",
    "plt.legend()\n",
    "plt.ylabel(\"Accuracy, %\")\n",
    "plt.xlabel(\"Epoch\");"
   ]
  },
  {
   "cell_type": "code",
   "execution_count": 49,
   "metadata": {},
   "outputs": [],
   "source": [
    "y_pred = model_top.predict(X_valid)"
   ]
  },
  {
   "cell_type": "code",
   "execution_count": 50,
   "metadata": {},
   "outputs": [
    {
     "name": "stdout",
     "output_type": "stream",
     "text": [
      "              precision    recall  f1-score   support\n",
      "\n",
      "           0       0.71      0.56      0.63       154\n",
      "           1       0.67      0.80      0.73       171\n",
      "\n",
      "    accuracy                           0.69       325\n",
      "   macro avg       0.69      0.68      0.68       325\n",
      "weighted avg       0.69      0.69      0.68       325\n",
      "\n",
      "Accuracy = 68.6%\n"
     ]
    }
   ],
   "source": [
    "print(classification_report(y_valid, y_pred.flatten() > 0.5))\n",
    "print(\"Accuracy = {:.1f}%\".format(accuracy_score(y_valid, y_pred.flatten() > 0.5) * 100))"
   ]
  },
  {
   "cell_type": "markdown",
   "metadata": {},
   "source": [
    "You should see an good improvement in the model (should be around 20%). The model also takes much less time to train!"
   ]
  },
  {
   "cell_type": "markdown",
   "metadata": {},
   "source": [
    "## Prepare the model for deployment\n",
    "\n",
    "We cannot just use our `model_top` that is trained for image classification, as it take extracted features as input, not image. We need to stick back our convolutional base and use an input layer of appropriate shape. This is what we are going to do below."
   ]
  },
  {
   "cell_type": "code",
   "execution_count": 51,
   "metadata": {},
   "outputs": [],
   "source": [
    "inp = Input(shape=(img_height, img_width, 3))\n",
    "pretrained_output = model_pretrained(inp)\n",
    "top_output = model_top(pretrained_output)"
   ]
  },
  {
   "cell_type": "code",
   "execution_count": 52,
   "metadata": {},
   "outputs": [],
   "source": [
    "model_final = Model(inputs=[inp], outputs=[top_output])\n",
    "model_final.compile(loss=\"binary_crossentropy\", optimizer=\"Adam\", metrics=[\"accuracy\"])"
   ]
  },
  {
   "cell_type": "code",
   "execution_count": 53,
   "metadata": {},
   "outputs": [
    {
     "name": "stdout",
     "output_type": "stream",
     "text": [
      "Model: \"model_1\"\n",
      "_________________________________________________________________\n",
      "Layer (type)                 Output Shape              Param #   \n",
      "=================================================================\n",
      "input_5 (InputLayer)         [(None, 200, 200, 3)]     0         \n",
      "_________________________________________________________________\n",
      "vgg19 (Functional)           (None, 6, 6, 512)         20024384  \n",
      "_________________________________________________________________\n",
      "top (Functional)             (None, 1)                 263169    \n",
      "=================================================================\n",
      "Total params: 20,287,553\n",
      "Trainable params: 20,287,553\n",
      "Non-trainable params: 0\n",
      "_________________________________________________________________\n"
     ]
    }
   ],
   "source": [
    "model_final.summary()"
   ]
  },
  {
   "cell_type": "code",
   "execution_count": 54,
   "metadata": {},
   "outputs": [],
   "source": [
    "model_final.save(os.path.join(\"pretrained_full.model.h5\"))"
   ]
  },
  {
   "cell_type": "markdown",
   "metadata": {},
   "source": [
    "Now let just test our full model on the images from validation set."
   ]
  },
  {
   "cell_type": "code",
   "execution_count": 55,
   "metadata": {},
   "outputs": [],
   "source": [
    "y_pred_probs = model_final.predict(validation_gen, validation_steps_per_epoch)\n",
    "\n",
    "# convert probabilities into classification label based on threshold of 0.5 \n",
    "y_pred = y_pred_probs > 0.5\n",
    "y_valid = np.array(validation_gen.classes)"
   ]
  },
  {
   "cell_type": "code",
   "execution_count": 56,
   "metadata": {},
   "outputs": [
    {
     "name": "stdout",
     "output_type": "stream",
     "text": [
      "              precision    recall  f1-score   support\n",
      "\n",
      "           0       0.71      0.56      0.63       154\n",
      "           1       0.67      0.80      0.73       171\n",
      "\n",
      "    accuracy                           0.69       325\n",
      "   macro avg       0.69      0.68      0.68       325\n",
      "weighted avg       0.69      0.69      0.68       325\n",
      "\n"
     ]
    }
   ],
   "source": [
    "print(classification_report(y_valid, y_pred))"
   ]
  },
  {
   "cell_type": "markdown",
   "metadata": {},
   "source": [
    "### Extra exercises\n",
    "\n",
    "1. Notice that we did not use data augmentation in the codes above.  You can try to add data augmentation and see if you can further improve the result.\n",
    "\n",
    "2. Train with the convolutional base, but unfreeze the last few convolutional layer, and see if it improve the model (you can refer to ipython notebook *fine_tuning.ipynb* on how to do it."
   ]
  }
 ],
 "metadata": {
  "anaconda-cloud": {},
  "kernelspec": {
   "display_name": "dlenv",
   "language": "python",
   "name": "dlenv"
  },
  "language_info": {
   "codemirror_mode": {
    "name": "ipython",
    "version": 3
   },
   "file_extension": ".py",
   "mimetype": "text/x-python",
   "name": "python",
   "nbconvert_exporter": "python",
   "pygments_lexer": "ipython3",
   "version": "3.8.11"
  },
  "toc": {
   "colors": {
    "hover_highlight": "#DAA520",
    "navigate_num": "#000000",
    "navigate_text": "#333333",
    "running_highlight": "#FF0000",
    "selected_highlight": "#FFD700",
    "sidebar_border": "#EEEEEE",
    "wrapper_background": "#FFFFFF"
   },
   "moveMenuLeft": true,
   "nav_menu": {
    "height": "12px",
    "width": "252px"
   },
   "navigate_menu": true,
   "number_sections": true,
   "sideBar": true,
   "threshold": 4,
   "toc_cell": false,
   "toc_section_display": "block",
   "toc_window_display": false,
   "widenNotebook": false
  }
 },
 "nbformat": 4,
 "nbformat_minor": 4
}
